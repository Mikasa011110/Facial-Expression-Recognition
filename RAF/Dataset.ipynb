{
 "cells": [
  {
   "cell_type": "code",
   "execution_count": 1,
   "id": "c5f61ce6-d215-49ca-b68e-352c968e4a7e",
   "metadata": {},
   "outputs": [],
   "source": [
    "import pandas as pd\n",
    "import numpy as np\n",
    "import os\n",
    "import cv2"
   ]
  },
  {
   "cell_type": "code",
   "execution_count": 2,
   "id": "5b67c56d-54d6-483a-bd5b-158e2160e2bc",
   "metadata": {},
   "outputs": [],
   "source": [
    "# 数据文件夹路径\n",
    "train_dir = \"./train\"\n",
    "test_dir = \"./test\""
   ]
  },
  {
   "cell_type": "code",
   "execution_count": 3,
   "id": "9fe326c2-f325-4156-9d13-a88dd59b5e3a",
   "metadata": {},
   "outputs": [],
   "source": [
    "# # 把数字改为单词\n",
    "# label_map = {\n",
    "#     1: \"surprise\",\n",
    "#     2: \"fear\",\n",
    "#     3: \"disgust\",\n",
    "#     4: \"happiness\",\n",
    "#     5: \"sadness\",\n",
    "#     6: \"anger\",\n",
    "#     7: \"neutral\"\n",
    "# }\n",
    "\n",
    "# # 遍历目录并重命名文件夹\n",
    "# for folder_name in os.listdir(test_dir):\n",
    "#     folder_path = os.path.join(test_dir, folder_name)\n",
    "    \n",
    "#     # 只处理数字命名的文件夹\n",
    "#     if os.path.isdir(folder_path) and folder_name.isdigit():\n",
    "#         label_num = int(folder_name)\n",
    "        \n",
    "#         # 检查映射是否存在\n",
    "#         if label_num in label_map:\n",
    "#             new_name = label_map[label_num]\n",
    "#             new_path = os.path.join(test_dir, new_name)\n",
    "            \n",
    "#             # 确保目标文件夹不存在\n",
    "#             if not os.path.exists(new_path):\n",
    "#                 os.rename(folder_path, new_path)\n",
    "#                 print(f\"Renamed: {folder_name} -> {new_name}\")\n",
    "#             else:\n",
    "#                 print(f\"Skipped: {new_name} already exists\")\n",
    "#         else:\n",
    "#             print(f\"Warning: No mapping for label {label_num}\")\n",
    "\n",
    "# print(\"Renaming process completed!\")"
   ]
  },
  {
   "cell_type": "code",
   "execution_count": 8,
   "id": "9d9c762d-73b8-4f99-b2f6-ac55a399eedb",
   "metadata": {},
   "outputs": [
    {
     "name": "stdout",
     "output_type": "stream",
     "text": [
      "705 anger images\n",
      "717 disgust images\n",
      "281 fear images\n",
      "4772 happiness images\n",
      "2524 neutral images\n",
      "1982 sadness images\n",
      "1290 surprise images\n",
      "12271\n"
     ]
    }
   ],
   "source": [
    "# 统计训练图像中每个类别的数量\n",
    "total = 0;\n",
    "for expression in os.listdir(\"./train\"):\n",
    "    print(str(len(os.listdir(\"./train/\"+ expression)))+\" \" + expression +\" images\")\n",
    "    total = total + len(os.listdir(\"./train/\"+ expression))\n",
    "print(total)"
   ]
  },
  {
   "cell_type": "code",
   "execution_count": 10,
   "id": "7ae9fa09-9913-44e3-8fa4-94ee8ce2295f",
   "metadata": {},
   "outputs": [
    {
     "name": "stdout",
     "output_type": "stream",
     "text": [
      "162 anger images\n",
      "160 disgust images\n",
      "74 fear images\n",
      "1185 happiness images\n",
      "680 neutral images\n",
      "478 sadness images\n",
      "329 surprise images\n",
      "3068\n"
     ]
    }
   ],
   "source": [
    "# 统计测试图像中每个类别的数量\n",
    "total = 0;\n",
    "for expression in os.listdir(\"./test\"):\n",
    "    print(str(len(os.listdir(\"./test/\"+ expression)))+\" \" + expression +\" images\")\n",
    "    total = total + len(os.listdir(\"./test/\"+ expression))\n",
    "print(total)"
   ]
  },
  {
   "cell_type": "code",
   "execution_count": 12,
   "id": "b5dc6a1b-2c7f-4c88-96ed-71cbd4204180",
   "metadata": {},
   "outputs": [
    {
     "name": "stdout",
     "output_type": "stream",
     "text": [
      "Image size (width, height): (100, 100)\n",
      "Image mode: RGB\n"
     ]
    }
   ],
   "source": [
    "from PIL import Image\n",
    "image_path = \"./train/anger/train_00023_aligned.jpg\"\n",
    "img = Image.open(image_path)\n",
    "print(\"Image size (width, height):\", img.size)\n",
    "print(\"Image mode:\", img.mode)  # RBG代表的是彩色图"
   ]
  },
  {
   "cell_type": "code",
   "execution_count": null,
   "id": "16f89b80-4e2b-4848-8d72-286240e22c2f",
   "metadata": {},
   "outputs": [],
   "source": []
  },
  {
   "cell_type": "code",
   "execution_count": null,
   "id": "7f993049-dec4-4e80-8038-feee0390dfeb",
   "metadata": {},
   "outputs": [],
   "source": []
  }
 ],
 "metadata": {
  "kernelspec": {
   "display_name": "Python 3 (ipykernel)",
   "language": "python",
   "name": "python3"
  },
  "language_info": {
   "codemirror_mode": {
    "name": "ipython",
    "version": 3
   },
   "file_extension": ".py",
   "mimetype": "text/x-python",
   "name": "python",
   "nbconvert_exporter": "python",
   "pygments_lexer": "ipython3",
   "version": "3.12.4"
  }
 },
 "nbformat": 4,
 "nbformat_minor": 5
}
